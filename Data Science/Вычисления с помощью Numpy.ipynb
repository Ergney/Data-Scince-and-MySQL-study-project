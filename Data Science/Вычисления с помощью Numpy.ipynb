{
 "cells": [
  {
   "cell_type": "code",
   "execution_count": 46,
   "metadata": {},
   "outputs": [
    {
     "name": "stdout",
     "output_type": "stream",
     "text": [
      "a = [[ 1  2  3  3  1]\n",
      " [ 6  8 11 10  7]]\n",
      "a.share = (2, 5)\n",
      "mean_a = [[2. ]\n",
      " [8.4]]\n"
     ]
    }
   ],
   "source": [
    "#Задание 1. \n",
    "#Импортируйте библиотеку Numpy и дайте ей псевдоним np.\n",
    "#Создайте массив Numpy под названием a размером 5x2, то есть состоящий из 5 строк и 2 столбцов. \n",
    "#Первый столбец должен содержать числа 1, 2, 3, 3, 1, а второй - числа 6, 8, 11, 10, 7. \n",
    "#Будем считать, что каждый столбец - это признак, а строкастрlока - наблюдение. \n",
    "#Затем найдите среднее значение по каждому признаку, используя метод mmean массива Numpy. \n",
    "#Результат запишите в массив mean_a, в нем должно быть 2 элемента.\n",
    "\n",
    "\n",
    "import numpy as np\n",
    "\n",
    "a = np.array([[ 1, 2, 3, 3, 1],[6, 8, 11, 10, 7]])\n",
    "\n",
    "print(\"a =\", a)\n",
    "\n",
    "a1 = a.shape\n",
    "\n",
    "print(\"a.share =\", a1)\n",
    "\n",
    "mean_a = np.array([[(a[0,0] + a[0,1] + a[0,2] + a[0,3] + a[0,4])/a1[1]], \n",
    "                    [(a[1,0] + a[1,1] + a[1,2] + a[1,3] + a[1,4])/a1[1]]])\n",
    "\n",
    "print(\"mean_a =\", mean_a)\n"
   ]
  },
  {
   "cell_type": "code",
   "execution_count": 48,
   "metadata": {},
   "outputs": [
    {
     "name": "stdout",
     "output_type": "stream",
     "text": [
      "a_centered = [[-1.   0.   1.   1.  -1. ]\n",
      " [-2.4 -0.4  2.6  1.6 -1.4]]\n"
     ]
    }
   ],
   "source": [
    "#Задание 2 \n",
    "#Вычислите массив a_centered, отняв от значений массива “а” средние значения соответствующих признаков, \n",
    "#содержащиеся в массиве mean_a. \n",
    "#Вычисление должно производиться в одно действие. Получившийся массив должен иметь размер 5x2.\n",
    "\n",
    "a_centered = np.array(a - mean_a)\n",
    "\n",
    "print('a_centered =', a_centered)\n"
   ]
  },
  {
   "cell_type": "code",
   "execution_count": 53,
   "metadata": {},
   "outputs": [
    {
     "name": "stdout",
     "output_type": "stream",
     "text": [
      "a_centered_sp = [ 2.4 -0.   2.6  1.6  1.4]\n",
      "N = 5\n",
      "a_centered_sp1 = [ 0.6  -0.    0.65  0.4   0.35]\n"
     ]
    }
   ],
   "source": [
    "#Задание 3 \n",
    "#Найдите скалярное произведение столбцов массива a_centered. \n",
    "#В результате должна получиться величина a_centered_sp. \n",
    "#Затем поделите a_centered_sp на N-1, где N - число наблюдений.\n",
    "\n",
    "a_centered_sp = np.array(a_centered[0] * a_centered[1])\n",
    "\n",
    "print(\"a_centered_sp =\", a_centered_sp)\n",
    "\n",
    "N = a_centered_sp.size\n",
    "\n",
    "print(\"N =\", N)\n",
    "\n",
    "a_centered_sp1 = np.array(a_centered_sp / (N - 1))\n",
    "\n",
    "print(\"a_centered_sp1 =\", a_centered_sp1)\n",
    "\n",
    "##что значит \"число наблюдений\", это сколько всего значений в массиве? "
   ]
  },
  {
   "cell_type": "code",
   "execution_count": 55,
   "metadata": {
    "scrolled": true
   },
   "outputs": [
    {
     "name": "stdout",
     "output_type": "stream",
     "text": [
      "Ничего не понял, но очень интересно ¯＼_(ツ)_/¯\n"
     ]
    }
   ],
   "source": [
    "#Задание 4**\n",
    "#Число, которое мы получили в конце задания 3 является ковариацией двух признаков, содержащихся в массиве “а”. \n",
    "#В задании 4 мы делили сумму произведений центрированных признаков на N-1, а не на N, \n",
    "#поэтому полученная нами величина является несмещенной оценкой ковариации.\n",
    "#В этом задании проверьте получившееся число, вычислив ковариацию еще одним способом - с помощью функции np.cov. \n",
    "#В качестве аргумента m функция np.cov должна принимать транспонированный массив “a”. \n",
    "#В получившейся ковариационной матрице (массив Numpy размером 2x2) \n",
    "#искомое значение ковариации будет равно элементу в строке с индексом 0 и столбце с индексом 1.\n",
    "\n",
    "print(\"Ничего не понял, но очень интересно ¯＼_(ツ)_/¯\")"
   ]
  },
  {
   "cell_type": "code",
   "execution_count": null,
   "metadata": {},
   "outputs": [],
   "source": []
  }
 ],
 "metadata": {
  "kernelspec": {
   "display_name": "Python 3",
   "language": "python",
   "name": "python3"
  },
  "language_info": {
   "codemirror_mode": {
    "name": "ipython",
    "version": 3
   },
   "file_extension": ".py",
   "mimetype": "text/x-python",
   "name": "python",
   "nbconvert_exporter": "python",
   "pygments_lexer": "ipython3",
   "version": "3.8.5"
  }
 },
 "nbformat": 4,
 "nbformat_minor": 4
}
