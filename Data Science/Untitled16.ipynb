{
 "cells": [
  {
   "cell_type": "code",
   "execution_count": 32,
   "metadata": {},
   "outputs": [],
   "source": [
    "import numpy as np\n",
    "\n",
    "def a(x):\n",
    "    x1 = np.mean(x)\n",
    "    x2 = (len(x) / sum((1 / q)))\n",
    "    print(x1, x2)"
   ]
  },
  {
   "cell_type": "code",
   "execution_count": 36,
   "metadata": {},
   "outputs": [
    {
     "name": "stdout",
     "output_type": "stream",
     "text": [
      "5.5 3.414171521474055\n",
      "25.5 17.070857607370275\n",
      "50.5 34.14171521474055\n",
      "500.5 341.41715214740555\n",
      "53.74 17.070857607370275\n",
      "48.26 17.070857607370275\n",
      "44.94 17.070857607370275\n",
      "42.65 6.82834304294811\n",
      "54.15 6.82834304294811\n",
      "473.88 34.14171521474055\n"
     ]
    }
   ],
   "source": [
    "a(np.array(np.arange(1, 11)))\n",
    "a(np.array(np.arange(1, 51)))\n",
    "a(np.array(np.arange(1, 101)))\n",
    "a(np.array(np.arange(1, 1001)))\n",
    "a(np.random.randint(1,100, 50))\n",
    "a(np.random.randint(1,100, 50))\n",
    "a(np.random.randint(1,100, 50))\n",
    "a(np.random.randint(1,100, 20))\n",
    "a(np.random.randint(1,100, 20))\n",
    "a(np.random.randint(1,1000, 100))"
   ]
  },
  {
   "cell_type": "code",
   "execution_count": null,
   "metadata": {},
   "outputs": [],
   "source": []
  }
 ],
 "metadata": {
  "kernelspec": {
   "display_name": "Python 3",
   "language": "python",
   "name": "python3"
  },
  "language_info": {
   "codemirror_mode": {
    "name": "ipython",
    "version": 3
   },
   "file_extension": ".py",
   "mimetype": "text/x-python",
   "name": "python",
   "nbconvert_exporter": "python",
   "pygments_lexer": "ipython3",
   "version": "3.8.5"
  }
 },
 "nbformat": 4,
 "nbformat_minor": 4
}
