{
 "cells": [
  {
   "cell_type": "code",
   "execution_count": 37,
   "metadata": {},
   "outputs": [],
   "source": [
    "import numpy as np\n",
    "\n",
    "def a(x):\n",
    "    x1 = np.mean(x)\n",
    "    x2 = (len(x) / sum((1 / x)))\n",
    "    print(x1, x2)"
   ]
  },
  {
   "cell_type": "code",
   "execution_count": 38,
   "metadata": {},
   "outputs": [
    {
     "name": "stdout",
     "output_type": "stream",
     "text": [
      "5.5 3.414171521474055\n",
      "25.5 11.113073585249\n",
      "50.5 19.277563597396004\n",
      "500.5 133.5921304924402\n",
      "46.88 17.86167958907352\n",
      "58.26 25.361891189643774\n",
      "50.68 30.640671724794196\n",
      "46.1 16.471986988305012\n",
      "62.1 37.28950090502257\n",
      "491.6 159.26562301958867\n"
     ]
    }
   ],
   "source": [
    "a(np.array(np.arange(1, 11)))\n",
    "a(np.array(np.arange(1, 51)))\n",
    "a(np.array(np.arange(1, 101)))\n",
    "a(np.array(np.arange(1, 1001)))\n",
    "a(np.random.randint(1,100, 50))\n",
    "a(np.random.randint(1,100, 50))\n",
    "a(np.random.randint(1,100, 50))\n",
    "a(np.random.randint(1,100, 20))\n",
    "a(np.random.randint(1,100, 20))\n",
    "a(np.random.randint(1,1000, 100))"
   ]
  },
  {
   "cell_type": "code",
   "execution_count": null,
   "metadata": {},
   "outputs": [],
   "source": []
  }
 ],
 "metadata": {
  "kernelspec": {
   "display_name": "Python 3",
   "language": "python",
   "name": "python3"
  },
  "language_info": {
   "codemirror_mode": {
    "name": "ipython",
    "version": 3
   },
   "file_extension": ".py",
   "mimetype": "text/x-python",
   "name": "python",
   "nbconvert_exporter": "python",
   "pygments_lexer": "ipython3",
   "version": "3.8.5"
  }
 },
 "nbformat": 4,
 "nbformat_minor": 4
}
